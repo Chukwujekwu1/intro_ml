{
 "cells": [
  {
   "cell_type": "code",
   "execution_count": 2,
   "id": "cf490573-a968-4736-956d-799f071b6c27",
   "metadata": {},
   "outputs": [],
   "source": [
    "import numpy as np"
   ]
  },
  {
   "cell_type": "code",
   "execution_count": 3,
   "id": "92ed834b-dd24-4dbc-8630-fde4ff8828b7",
   "metadata": {},
   "outputs": [
    {
     "data": {
      "text/plain": [
       "array([1, 2, 3])"
      ]
     },
     "execution_count": 3,
     "metadata": {},
     "output_type": "execute_result"
    }
   ],
   "source": [
    "a = np.array([1,2,3])\n",
    "a"
   ]
  },
  {
   "cell_type": "code",
   "execution_count": 4,
   "id": "578b6774-804b-45e0-8999-fb6b50fc0a60",
   "metadata": {},
   "outputs": [
    {
     "data": {
      "text/plain": [
       "1"
      ]
     },
     "execution_count": 4,
     "metadata": {},
     "output_type": "execute_result"
    }
   ],
   "source": [
    "a[0]"
   ]
  },
  {
   "cell_type": "code",
   "execution_count": 5,
   "id": "d4323c14-9190-46ca-bc34-0c537e84dec7",
   "metadata": {},
   "outputs": [
    {
     "data": {
      "text/plain": [
       "2"
      ]
     },
     "execution_count": 5,
     "metadata": {},
     "output_type": "execute_result"
    }
   ],
   "source": [
    "a[1]"
   ]
  },
  {
   "cell_type": "code",
   "execution_count": 6,
   "id": "8a30aecb-5cbc-4b40-8073-85d1c1f9642d",
   "metadata": {},
   "outputs": [],
   "source": [
    "import time \n",
    "import sys"
   ]
  },
  {
   "cell_type": "code",
   "execution_count": 7,
   "id": "3437b691-71a8-48dd-9c46-cbcf3f301f8d",
   "metadata": {},
   "outputs": [
    {
     "name": "stdout",
     "output_type": "stream",
     "text": [
      "28000\n"
     ]
    }
   ],
   "source": [
    "b = range(1000)\n",
    "print(sys.getsizeof(5)*len(b))"
   ]
  },
  {
   "cell_type": "code",
   "execution_count": 8,
   "id": "3edbcbd3-a4a6-45a5-85c7-a5c4a6b2ad84",
   "metadata": {},
   "outputs": [
    {
     "name": "stdout",
     "output_type": "stream",
     "text": [
      "4000\n"
     ]
    }
   ],
   "source": [
    "c = np.arange(1000)\n",
    "print(c.size*c.itemsize)"
   ]
  },
  {
   "cell_type": "code",
   "execution_count": 9,
   "id": "fc6f7526-299f-472e-8f52-886f93f47205",
   "metadata": {},
   "outputs": [
    {
     "data": {
      "text/plain": [
       "array([[1, 2],\n",
       "       [3, 4],\n",
       "       [5, 6]])"
      ]
     },
     "execution_count": 9,
     "metadata": {},
     "output_type": "execute_result"
    }
   ],
   "source": [
    "a = np.array([[1,2],[3,4],[5,6]])\n",
    "a"
   ]
  },
  {
   "cell_type": "code",
   "execution_count": 10,
   "id": "cb2a6eac-1261-4b8c-b2a0-c45f35bbd1cc",
   "metadata": {},
   "outputs": [
    {
     "data": {
      "text/plain": [
       "2"
      ]
     },
     "execution_count": 10,
     "metadata": {},
     "output_type": "execute_result"
    }
   ],
   "source": [
    "a.ndim"
   ]
  },
  {
   "cell_type": "code",
   "execution_count": 11,
   "id": "c038a53a-030c-410d-a604-4f581e4dcad3",
   "metadata": {},
   "outputs": [
    {
     "data": {
      "text/plain": [
       "4"
      ]
     },
     "execution_count": 11,
     "metadata": {},
     "output_type": "execute_result"
    }
   ],
   "source": [
    "a.itemsize"
   ]
  },
  {
   "cell_type": "code",
   "execution_count": 12,
   "id": "866f5cf7-96d2-41fc-972e-474492946048",
   "metadata": {},
   "outputs": [
    {
     "data": {
      "text/plain": [
       "(3, 2)"
      ]
     },
     "execution_count": 12,
     "metadata": {},
     "output_type": "execute_result"
    }
   ],
   "source": [
    "a.shape"
   ]
  },
  {
   "cell_type": "code",
   "execution_count": 13,
   "id": "32775cf3-a822-423c-bd59-c4ee753d5aec",
   "metadata": {},
   "outputs": [
    {
     "data": {
      "text/plain": [
       "array([[1., 2.],\n",
       "       [3., 4.],\n",
       "       [5., 6.]])"
      ]
     },
     "execution_count": 13,
     "metadata": {},
     "output_type": "execute_result"
    }
   ],
   "source": [
    "a = np.array([[1,2],[3,4],[5,6]], dtype = np.float64)\n",
    "a"
   ]
  },
  {
   "cell_type": "code",
   "execution_count": 14,
   "id": "d27987d2-322a-4a74-9bf1-fb4f28eb12c0",
   "metadata": {},
   "outputs": [
    {
     "data": {
      "text/plain": [
       "array([[0., 0., 0.],\n",
       "       [0., 0., 0.],\n",
       "       [0., 0., 0.],\n",
       "       [0., 0., 0.],\n",
       "       [0., 0., 0.]])"
      ]
     },
     "execution_count": 14,
     "metadata": {},
     "output_type": "execute_result"
    }
   ],
   "source": [
    "np.zeros((5,3))"
   ]
  },
  {
   "cell_type": "code",
   "execution_count": 15,
   "id": "c6558414-2363-4d76-8f71-c1e5c24ba38c",
   "metadata": {},
   "outputs": [
    {
     "name": "stdout",
     "output_type": "stream",
     "text": [
      "Concartinate String in numpy\n",
      "['HelloMichael' 'HiSamuel']\n"
     ]
    }
   ],
   "source": [
    "print(\"Concartinate String in numpy\")\n",
    "print(np.char.add([\"Hello\",\"Hi\"], [\"Michael\" ,\"Samuel\"]))"
   ]
  },
  {
   "cell_type": "code",
   "execution_count": 16,
   "id": "fc277532-f10c-49d6-aeb6-405af2259892",
   "metadata": {},
   "outputs": [
    {
     "name": "stdout",
     "output_type": "stream",
     "text": [
      ">>>>>>>Hello>>>>>>>>\n"
     ]
    }
   ],
   "source": [
    "print(np.char.center(\"Hello\", 20, fillchar=\">\"))"
   ]
  },
  {
   "cell_type": "code",
   "execution_count": 18,
   "id": "528dbb5c-8777-404f-bbdf-1e40f2a07371",
   "metadata": {},
   "outputs": [
    {
     "name": "stdout",
     "output_type": "stream",
     "text": [
      "['Hello' 'Hi']\n"
     ]
    }
   ],
   "source": [
    "print(np.char.capitalize([\"hello\",\"hi\"]))"
   ]
  },
  {
   "cell_type": "code",
   "execution_count": null,
   "id": "1d6c0e70-350f-4f2d-8d8c-c7b1ec0bd494",
   "metadata": {},
   "outputs": [
    {
     "name": "stdout",
     "output_type": "stream",
     "text": [
      "Hello, Hi Michael My Son\n"
     ]
    }
   ],
   "source": [
    "print(np.char.title(\"hello, hi michael my son\"))"
   ]
  },
  {
   "cell_type": "code",
   "execution_count": null,
   "id": "baa2ccb9-cdee-4659-bca4-87cdfd6de8ff",
   "metadata": {},
   "outputs": [
    {
     "name": "stdout",
     "output_type": "stream",
     "text": [
      "[['hello' 'hi']\n",
      " ['michael' 'samuel']]\n"
     ]
    }
   ],
   "source": [
    "print(np.char.lower([[\"HELLO\",\"HI\"], [\"MICHAEL\" ,\"SAMUEL\"]]))"
   ]
  },
  {
   "cell_type": "code",
   "execution_count": null,
   "id": "287c1bfe-eb83-49b3-85b8-5cc3008c6ecc",
   "metadata": {},
   "outputs": [
    {
     "name": "stdout",
     "output_type": "stream",
     "text": [
      "HELLO, HI MICHAEL MY SON\n"
     ]
    }
   ],
   "source": [
    "print(np.char.upper(\"hello, hi michael my son\"))"
   ]
  },
  {
   "cell_type": "code",
   "execution_count": null,
   "id": "88c16adc-654f-495b-a754-f18a2be3d6a4",
   "metadata": {},
   "outputs": [
    {
     "name": "stdout",
     "output_type": "stream",
     "text": [
      "['hello,', 'hi', 'michael', 'my', 'son']\n"
     ]
    }
   ],
   "source": [
    "print(np.char.split(\"hello, hi michael my son\"))"
   ]
  },
  {
   "cell_type": "code",
   "execution_count": null,
   "id": "abc8ea90-58ad-4b87-b55d-9bbc1e98a768",
   "metadata": {},
   "outputs": [
    {
     "name": "stdout",
     "output_type": "stream",
     "text": [
      "['hello', 'hi michael', 'my son']\n"
     ]
    }
   ],
   "source": [
    "print(np.char.splitlines(\"hello\\nhi michael\\nmy son\"))"
   ]
  },
  {
   "cell_type": "code",
   "execution_count": null,
   "id": "773cdaca-3142-4f7a-bc14-96edd8de75c8",
   "metadata": {},
   "outputs": [
    {
     "name": "stdout",
     "output_type": "stream",
     "text": [
      "['ello' 'i' 'michael' 'as' 'sohn']\n"
     ]
    }
   ],
   "source": [
    "print(np.char.strip([\"hello\", \"hi\", \"michael\", \"has\", \"sohn\"], \"h\"))"
   ]
  },
  {
   "cell_type": "code",
   "execution_count": null,
   "id": "ab6d2f9f-0397-4d32-8e48-6a39efa3b0ab",
   "metadata": {},
   "outputs": [],
   "source": []
  }
 ],
 "metadata": {
  "kernelspec": {
   "display_name": "Python 3 (ipykernel)",
   "language": "python",
   "name": "python3"
  },
  "language_info": {
   "codemirror_mode": {
    "name": "ipython",
    "version": 3
   },
   "file_extension": ".py",
   "mimetype": "text/x-python",
   "name": "python",
   "nbconvert_exporter": "python",
   "pygments_lexer": "ipython3",
   "version": "3.11.7"
  }
 },
 "nbformat": 4,
 "nbformat_minor": 5
}
